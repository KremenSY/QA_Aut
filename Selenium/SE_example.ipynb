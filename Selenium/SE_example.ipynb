{
 "cells": [
  {
   "cell_type": "code",
   "execution_count": 1,
   "id": "e47fd581",
   "metadata": {},
   "outputs": [],
   "source": [
    "#!pip install selenium\n",
    "## drivers:\n",
    "## Chrome: https://chromedriver.chromium.org/downloads\n",
    "## Edge: https://developer.microsoft.com/en-us/microsoft-edge/tools/webdriver/\n",
    "## Firefox: https://github.com/mozilla/geckodriver/releases\n",
    "## Safari: https://webkit.org/blog/6900/webdriver-support-in-safari-10/"
   ]
  },
  {
   "cell_type": "code",
   "execution_count": 2,
   "id": "ec4a4064",
   "metadata": {},
   "outputs": [],
   "source": [
    "# import os\n",
    "# os.environ['PATH']+=r\"C:/SE_Drivers\""
   ]
  },
  {
   "cell_type": "code",
   "execution_count": 3,
   "id": "38a71050",
   "metadata": {},
   "outputs": [],
   "source": [
    "from selenium import webdriver\n",
    "from selenium.webdriver.common.by import By\n",
    "from selenium.webdriver.support.ui import WebDriverWait\n",
    "from selenium.webdriver.support import expected_conditions as EC\n",
    "import time\n",
    "#driver=webdriver.Chrome()\n",
    "#driver=webdriver.Edge()\n",
    "driver=webdriver.Firefox()"
   ]
  },
  {
   "cell_type": "code",
   "execution_count": 4,
   "id": "9c254574",
   "metadata": {},
   "outputs": [],
   "source": [
    "driver.get(\"https://www.demoblaze.com/index.html\")\n",
    "#driver.implicitly_wait(5)\n",
    "time.sleep(5)\n",
    "my_element=driver.find_element(\"id\",\"next2\")\n",
    "my_element.click()"
   ]
  },
  {
   "cell_type": "code",
   "execution_count": 5,
   "id": "71835904",
   "metadata": {},
   "outputs": [],
   "source": [
    "#help(driver)"
   ]
  },
  {
   "cell_type": "code",
   "execution_count": 6,
   "id": "2baabef2",
   "metadata": {},
   "outputs": [
    {
     "name": "stdout",
     "output_type": "stream",
     "text": [
      "CATEGORIES\n",
      "Phones\n",
      "Laptops\n",
      "Monitors\n"
     ]
    }
   ],
   "source": [
    "from selenium.webdriver.common.by import By\n",
    "side_bar_menu=driver.find_elements(By.CLASS_NAME, \"list-group-item\")\n",
    "for item in side_bar_menu:\n",
    "    print(item.text)"
   ]
  },
  {
   "cell_type": "code",
   "execution_count": 7,
   "id": "c62e54e8",
   "metadata": {},
   "outputs": [],
   "source": [
    "from selenium.webdriver.support.ui import WebDriverWait\n",
    "from selenium.webdriver.support import expected_conditions as EC"
   ]
  },
  {
   "cell_type": "code",
   "execution_count": 8,
   "id": "d25c602c",
   "metadata": {},
   "outputs": [
    {
     "data": {
      "text/plain": [
       "True"
      ]
     },
     "execution_count": 8,
     "metadata": {},
     "output_type": "execute_result"
    }
   ],
   "source": [
    "WebDriverWait(driver, 30).until(\n",
    "    EC.text_to_be_present_in_element(\n",
    "        (By.CLASS_NAME, \"list-group-item\"), # Element filtration\n",
    "        \"CATEGORIES\" # The expected text\n",
    "    )\n",
    ")"
   ]
  },
  {
   "cell_type": "code",
   "execution_count": 51,
   "id": "3da23c25",
   "metadata": {},
   "outputs": [],
   "source": [
    "signup_menu=driver.find_elements(By.ID, \"signin2\")\n",
    "signup_menu[0].click()\n",
    "#signup_button=driver.find_element(\"onclick\", \"register()\")\n",
    "signup_button = driver.find_element(by=By.XPATH, value='/html/body/div[2]/div/div/div[3]/button[2]')\n",
    "signup_button.click()"
   ]
  },
  {
   "cell_type": "code",
   "execution_count": null,
   "id": "d2b24596",
   "metadata": {},
   "outputs": [],
   "source": []
  }
 ],
 "metadata": {
  "kernelspec": {
   "display_name": "Python 3 (ipykernel)",
   "language": "python",
   "name": "python3"
  },
  "language_info": {
   "codemirror_mode": {
    "name": "ipython",
    "version": 3
   },
   "file_extension": ".py",
   "mimetype": "text/x-python",
   "name": "python",
   "nbconvert_exporter": "python",
   "pygments_lexer": "ipython3",
   "version": "3.9.12"
  }
 },
 "nbformat": 4,
 "nbformat_minor": 5
}
