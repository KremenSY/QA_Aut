{
 "cells": [
  {
   "cell_type": "markdown",
   "id": "527a8bea",
   "metadata": {},
   "source": [
    "# Making pivot table"
   ]
  },
  {
   "cell_type": "code",
   "execution_count": 1,
   "id": "31b067ff",
   "metadata": {},
   "outputs": [],
   "source": [
    "import pandas as pd"
   ]
  },
  {
   "cell_type": "code",
   "execution_count": 2,
   "id": "580ad992",
   "metadata": {},
   "outputs": [],
   "source": [
    "# !pip install xlrd\n",
    "# !pip install pyexcel\n",
    "# !python -m pip install --upgrade xlrd"
   ]
  },
  {
   "cell_type": "code",
   "execution_count": 3,
   "id": "bdb4b70c",
   "metadata": {},
   "outputs": [],
   "source": [
    "# Read Excel File\n",
    "# from pathlib import Path\n",
    "# import os\n",
    "# path=os.path.join(os.getcwd(), r'supermarket_sales.xlsx')\n",
    "# df = pd.read_excel(r\"C:\\Users\\Home\\Desktop\")"
   ]
  },
  {
   "cell_type": "code",
   "execution_count": 4,
   "id": "4d041996",
   "metadata": {},
   "outputs": [],
   "source": [
    "df = pd.read_excel(r'supermarket_sales.xlsx')"
   ]
  },
  {
   "cell_type": "code",
   "execution_count": 5,
   "id": "faf3e18e",
   "metadata": {},
   "outputs": [],
   "source": [
    "df = df[['Gender', 'Product line', 'Total']] # Select columns: 'Gender', 'Product line', 'Total'"
   ]
  },
  {
   "cell_type": "code",
   "execution_count": 6,
   "id": "58884617",
   "metadata": {},
   "outputs": [],
   "source": [
    "# Make pivot table\n",
    "pivot_table=df.pivot_table(index='Gender', columns='Product line',\n",
    "                          values='Total', aggfunc='sum').round(0)"
   ]
  },
  {
   "cell_type": "code",
   "execution_count": 7,
   "id": "d4b1cdde",
   "metadata": {},
   "outputs": [],
   "source": [
    "pivot_table.to_excel('pivot_table.xlsx', 'Report', startrow=4)"
   ]
  },
  {
   "cell_type": "code",
   "execution_count": 8,
   "id": "e7ec5869",
   "metadata": {},
   "outputs": [
    {
     "data": {
      "text/html": [
       "<div>\n",
       "<style scoped>\n",
       "    .dataframe tbody tr th:only-of-type {\n",
       "        vertical-align: middle;\n",
       "    }\n",
       "\n",
       "    .dataframe tbody tr th {\n",
       "        vertical-align: top;\n",
       "    }\n",
       "\n",
       "    .dataframe thead th {\n",
       "        text-align: right;\n",
       "    }\n",
       "</style>\n",
       "<table border=\"1\" class=\"dataframe\">\n",
       "  <thead>\n",
       "    <tr style=\"text-align: right;\">\n",
       "      <th></th>\n",
       "      <th>Unnamed: 0</th>\n",
       "      <th>Unnamed: 1</th>\n",
       "      <th>Unnamed: 2</th>\n",
       "      <th>Unnamed: 3</th>\n",
       "      <th>Unnamed: 4</th>\n",
       "      <th>Unnamed: 5</th>\n",
       "      <th>Unnamed: 6</th>\n",
       "    </tr>\n",
       "  </thead>\n",
       "  <tbody>\n",
       "    <tr>\n",
       "      <th>0</th>\n",
       "      <td>NaN</td>\n",
       "      <td>NaN</td>\n",
       "      <td>NaN</td>\n",
       "      <td>NaN</td>\n",
       "      <td>NaN</td>\n",
       "      <td>NaN</td>\n",
       "      <td>NaN</td>\n",
       "    </tr>\n",
       "    <tr>\n",
       "      <th>1</th>\n",
       "      <td>NaN</td>\n",
       "      <td>NaN</td>\n",
       "      <td>NaN</td>\n",
       "      <td>NaN</td>\n",
       "      <td>NaN</td>\n",
       "      <td>NaN</td>\n",
       "      <td>NaN</td>\n",
       "    </tr>\n",
       "    <tr>\n",
       "      <th>2</th>\n",
       "      <td>NaN</td>\n",
       "      <td>NaN</td>\n",
       "      <td>NaN</td>\n",
       "      <td>NaN</td>\n",
       "      <td>NaN</td>\n",
       "      <td>NaN</td>\n",
       "      <td>NaN</td>\n",
       "    </tr>\n",
       "    <tr>\n",
       "      <th>3</th>\n",
       "      <td>Gender</td>\n",
       "      <td>Electronic accessories</td>\n",
       "      <td>Fashion accessories</td>\n",
       "      <td>Food and beverages</td>\n",
       "      <td>Health and beauty</td>\n",
       "      <td>Home and lifestyle</td>\n",
       "      <td>Sports and travel</td>\n",
       "    </tr>\n",
       "    <tr>\n",
       "      <th>4</th>\n",
       "      <td>Female</td>\n",
       "      <td>27102</td>\n",
       "      <td>30437</td>\n",
       "      <td>33171</td>\n",
       "      <td>18561</td>\n",
       "      <td>30037</td>\n",
       "      <td>28575</td>\n",
       "    </tr>\n",
       "    <tr>\n",
       "      <th>5</th>\n",
       "      <td>Male</td>\n",
       "      <td>27236</td>\n",
       "      <td>23868</td>\n",
       "      <td>22974</td>\n",
       "      <td>30633</td>\n",
       "      <td>23825</td>\n",
       "      <td>26548</td>\n",
       "    </tr>\n",
       "  </tbody>\n",
       "</table>\n",
       "</div>"
      ],
      "text/plain": [
       "  Unnamed: 0              Unnamed: 1           Unnamed: 2          Unnamed: 3  \\\n",
       "0        NaN                     NaN                  NaN                 NaN   \n",
       "1        NaN                     NaN                  NaN                 NaN   \n",
       "2        NaN                     NaN                  NaN                 NaN   \n",
       "3     Gender  Electronic accessories  Fashion accessories  Food and beverages   \n",
       "4     Female                   27102                30437               33171   \n",
       "5       Male                   27236                23868               22974   \n",
       "\n",
       "          Unnamed: 4          Unnamed: 5         Unnamed: 6  \n",
       "0                NaN                 NaN                NaN  \n",
       "1                NaN                 NaN                NaN  \n",
       "2                NaN                 NaN                NaN  \n",
       "3  Health and beauty  Home and lifestyle  Sports and travel  \n",
       "4              18561               30037              28575  \n",
       "5              30633               23825              26548  "
      ]
     },
     "execution_count": 8,
     "metadata": {},
     "output_type": "execute_result"
    }
   ],
   "source": [
    "df = pd.read_excel(r'pivot_table.xlsx')\n",
    "df"
   ]
  },
  {
   "cell_type": "markdown",
   "id": "25c0ccd9",
   "metadata": {},
   "source": [
    "# Add Charts"
   ]
  },
  {
   "cell_type": "code",
   "execution_count": 9,
   "id": "7c161f0e",
   "metadata": {},
   "outputs": [],
   "source": [
    "#!pip install openpyxl"
   ]
  },
  {
   "cell_type": "code",
   "execution_count": 10,
   "id": "8e5672a1",
   "metadata": {},
   "outputs": [],
   "source": [
    "from openpyxl import load_workbook\n",
    "from openpyxl.chart import BarChart, Reference"
   ]
  },
  {
   "cell_type": "code",
   "execution_count": 11,
   "id": "b7a3af98",
   "metadata": {},
   "outputs": [],
   "source": [
    "# Read workbook and select sheet\n",
    "wb=load_workbook('pivot_table.xlsx')\n",
    "sheet=wb['Report']"
   ]
  },
  {
   "cell_type": "code",
   "execution_count": 12,
   "id": "8447495c",
   "metadata": {},
   "outputs": [],
   "source": [
    "# Active rows and columns\n",
    "min_column=wb.active.min_column\n",
    "max_column=wb.active.max_column\n",
    "min_row=wb.active.min_row\n",
    "max_row=wb.active.max_row"
   ]
  },
  {
   "cell_type": "code",
   "execution_count": 13,
   "id": "fd810d76",
   "metadata": {},
   "outputs": [],
   "source": [
    "# Instantiate a barchart\n",
    "barchart = BarChart()"
   ]
  },
  {
   "cell_type": "code",
   "execution_count": 14,
   "id": "de473699",
   "metadata": {},
   "outputs": [],
   "source": [
    "# Locate data and categories\n",
    "data=Reference(\n",
    "    sheet,\n",
    "    min_col=min_column+1,\n",
    "    max_col=max_column,\n",
    "    min_row=min_row,\n",
    "    max_row=max_row\n",
    ") # including headers\n",
    "\n",
    "categories=Reference(\n",
    "    sheet,\n",
    "    min_col=min_column+1,\n",
    "    max_col=max_column,\n",
    "    min_row=min_row,\n",
    "    max_row=max_row\n",
    ") # not including headers"
   ]
  },
  {
   "cell_type": "code",
   "execution_count": 15,
   "id": "100beb3f",
   "metadata": {},
   "outputs": [],
   "source": [
    "# Adding data and categories\n",
    "barchart.add_data(data, titles_from_data=True)\n",
    "barchart.set_categories(categories)"
   ]
  },
  {
   "cell_type": "code",
   "execution_count": 16,
   "id": "6243aa82",
   "metadata": {},
   "outputs": [],
   "source": [
    "# Make chart\n",
    "sheet.add_chart(barchart, \"B12\")\n",
    "barchart.title='Sales by Product line'\n",
    "barchart.style=5 # choose the chart style"
   ]
  },
  {
   "cell_type": "code",
   "execution_count": 17,
   "id": "60c8667b",
   "metadata": {},
   "outputs": [],
   "source": [
    "# Save workbook\n",
    "wb.save('barchart.xlsx')"
   ]
  },
  {
   "cell_type": "markdown",
   "id": "7010b71b",
   "metadata": {},
   "source": [
    "# Apply formulas"
   ]
  },
  {
   "cell_type": "code",
   "execution_count": 18,
   "id": "7a829b54",
   "metadata": {},
   "outputs": [],
   "source": [
    "from openpyxl import load_workbook\n",
    "from openpyxl.utils import get_column_letter"
   ]
  },
  {
   "cell_type": "code",
   "execution_count": 19,
   "id": "6648e013",
   "metadata": {},
   "outputs": [],
   "source": [
    "wb=load_workbook('barchart.xlsx')\n",
    "sheet=wb['Report']"
   ]
  },
  {
   "cell_type": "code",
   "execution_count": 20,
   "id": "9e859c87",
   "metadata": {},
   "outputs": [],
   "source": [
    "min_column = wb.active.min_column\n",
    "max_column = wb.active.max_column\n",
    "min_row = wb.active.min_row\n",
    "max_row = wb.active.max_row"
   ]
  },
  {
   "cell_type": "code",
   "execution_count": 21,
   "id": "37069785",
   "metadata": {},
   "outputs": [],
   "source": [
    "# Write an Excel formula with Python\n",
    "# sheet['B8'] = '=SUM(B6:B7)'\n",
    "# sheet['B8'].style = 'Currency'"
   ]
  },
  {
   "cell_type": "code",
   "execution_count": 22,
   "id": "e93031ca",
   "metadata": {},
   "outputs": [],
   "source": [
    "# Write multiple formulas with a for loop\n",
    "for i in range(min_column+1, max_column+1): # (B, G+1)\n",
    "    letter=get_column_letter(i)\n",
    "    sheet[f'{letter}{max_row + 1}'] = f'=SUM({letter}{min_row + 1}:{letter}{max_row})'\n",
    "    sheet[f'{letter}{max_row + 1}'].style = 'Currency'"
   ]
  },
  {
   "cell_type": "code",
   "execution_count": 23,
   "id": "9f019188",
   "metadata": {},
   "outputs": [],
   "source": [
    "wb.save('report.xlsx')"
   ]
  },
  {
   "cell_type": "markdown",
   "id": "a0622767",
   "metadata": {},
   "source": [
    "# Format cells"
   ]
  },
  {
   "cell_type": "code",
   "execution_count": 24,
   "id": "f48815b3",
   "metadata": {},
   "outputs": [],
   "source": [
    "from openpyxl import load_workbook\n",
    "from openpyxl.styles import Font"
   ]
  },
  {
   "cell_type": "code",
   "execution_count": 27,
   "id": "3faf4b8f",
   "metadata": {},
   "outputs": [],
   "source": [
    "wb = load_workbook('report.xlsx')\n",
    "sheet = wb['Report']"
   ]
  },
  {
   "cell_type": "code",
   "execution_count": 28,
   "id": "3d4dd5f5",
   "metadata": {},
   "outputs": [],
   "source": [
    "# Add format\n",
    "month='January'\n",
    "sheet['A1']='Sales Report'\n",
    "sheet['A2']=month\n",
    "sheet['A1'].font=Font('Arial', bold=True, size=20)\n",
    "sheet['A2'].font=Font('Arial', bold=True, size=10)"
   ]
  },
  {
   "cell_type": "code",
   "execution_count": 29,
   "id": "f9812b78",
   "metadata": {},
   "outputs": [],
   "source": [
    "wb.save('report_january.xlsx')"
   ]
  },
  {
   "cell_type": "code",
   "execution_count": null,
   "id": "738a1abe",
   "metadata": {},
   "outputs": [],
   "source": []
  }
 ],
 "metadata": {
  "kernelspec": {
   "display_name": "Python 3 (ipykernel)",
   "language": "python",
   "name": "python3"
  },
  "language_info": {
   "codemirror_mode": {
    "name": "ipython",
    "version": 3
   },
   "file_extension": ".py",
   "mimetype": "text/x-python",
   "name": "python",
   "nbconvert_exporter": "python",
   "pygments_lexer": "ipython3",
   "version": "3.9.12"
  }
 },
 "nbformat": 4,
 "nbformat_minor": 5
}
